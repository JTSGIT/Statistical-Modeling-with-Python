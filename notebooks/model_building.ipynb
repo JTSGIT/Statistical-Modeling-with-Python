{
 "cells": [
  {
   "cell_type": "markdown",
   "metadata": {},
   "source": [
    "Build a regression model."
   ]
  },
  {
   "cell_type": "code",
   "execution_count": 2,
   "metadata": {},
   "outputs": [
    {
     "name": "stdout",
     "output_type": "stream",
     "text": [
      "                            OLS Regression Results                            \n",
      "==============================================================================\n",
      "Dep. Variable:             free_bikes   R-squared:                       0.581\n",
      "Model:                            OLS   Adj. R-squared:                  0.162\n",
      "Method:                 Least Squares   F-statistic:                     1.386\n",
      "Date:                Sun, 07 Apr 2024   Prob (F-statistic):              0.419\n",
      "Time:                        13:09:21   Log-Likelihood:                -10.961\n",
      "No. Observations:                   5   AIC:                             27.92\n",
      "Df Residuals:                       2   BIC:                             26.75\n",
      "Df Model:                           2                                         \n",
      "Covariance Type:            nonrobust                                         \n",
      "==============================================================================\n",
      "                 coef    std err          t      P>|t|      [0.025      0.975]\n",
      "------------------------------------------------------------------------------\n",
      "const      -4825.6556   3558.281     -1.356      0.308   -2.01e+04    1.05e+04\n",
      "latitude     120.8305     85.966      1.406      0.295    -249.052     490.713\n",
      "longitude    -79.0889     83.642     -0.946      0.444    -438.971     280.793\n",
      "==============================================================================\n",
      "Omnibus:                          nan   Durbin-Watson:                   2.096\n",
      "Prob(Omnibus):                    nan   Jarque-Bera (JB):                0.741\n",
      "Skew:                           0.841   Prob(JB):                        0.691\n",
      "Kurtosis:                       2.149   Cond. No.                     9.64e+04\n",
      "==============================================================================\n",
      "\n",
      "Notes:\n",
      "[1] Standard Errors assume that the covariance matrix of the errors is correctly specified.\n",
      "[2] The condition number is large, 9.64e+04. This might indicate that there are\n",
      "strong multicollinearity or other numerical problems.\n"
     ]
    },
    {
     "name": "stderr",
     "output_type": "stream",
     "text": [
      "/Users/jorgen/anaconda3/lib/python3.11/site-packages/statsmodels/stats/stattools.py:74: ValueWarning: omni_normtest is not valid with less than 8 observations; 5 samples were given.\n",
      "  warn(\"omni_normtest is not valid with less than 8 observations; %i \"\n"
     ]
    }
   ],
   "source": [
    "import sqlite3  # Importing sqlite3 to work with SQLite databases\n",
    "import pandas as pd  # Importing pandas to work with dataframes\n",
    "import statsmodels.api as sm  # Importing the statsmodels library for the regression model\n",
    "\n",
    "# The path to the SQLite database where my data is stored\n",
    "db_path = '/Users/jorgen/Documents/LHL/project/Statistical-Modeling-with-Python/data/bike_stations.db'\n",
    "\n",
    "# Establishing a connection to my database\n",
    "conn = sqlite3.connect(db_path)\n",
    "\n",
    "# SQL query to select my needed columns from the table\n",
    "# Here, I need to adjust the table name to 'bike_stations', the correct name based on how I created the database\n",
    "sql_query = '''\n",
    "SELECT free_bikes, latitude, longitude\n",
    "FROM bike_stations\n",
    "'''\n",
    "\n",
    "# Loading the data from my SQL query into a pandas DataFrame\n",
    "df = pd.read_sql_query(sql_query, conn)\n",
    "\n",
    "# Closing the database connection as it's a good practice to close connections once the task is done\n",
    "conn.close()\n",
    "\n",
    "# Assuming for the regression model, 'free_bikes' is our response variable\n",
    "# and we're exploring its relationship with 'latitude' and 'longitude'\n",
    "X = df[['latitude', 'longitude']]  # Predictor variables\n",
    "y = df['free_bikes']  # Response variable\n",
    "\n",
    "# Adding a constant to the predictor variables, necessary for the regression model's intercept\n",
    "X = sm.add_constant(X)\n",
    "\n",
    "# Fitting the regression model using OLS (Ordinary Least Squares)\n",
    "model = sm.OLS(y, X).fit()\n",
    "\n",
    "# Printing a summary of the model to see the results, including coefficients and statistics\n",
    "print(model.summary())\n",
    "\n",
    "\n"
   ]
  },
  {
   "cell_type": "markdown",
   "metadata": {},
   "source": [
    "Provide model output and an interpretation of the results. "
   ]
  },
  {
   "cell_type": "code",
   "execution_count": null,
   "metadata": {},
   "outputs": [],
   "source": [
    "# Model Summary Interpretation:\n",
    "\n",
    "\"\"\"\n",
    "- R-squared (0.581) indicates our model explains 58.1% of the variance in free bikes, showing a moderate fit.\n",
    "- Adjusted R-squared (0.162) suggests limited predictive power when adjusting for predictors.\n",
    "- Coefficients for latitude (120.8305) and longitude (-79.0889) aren't statistically significant (p-values > 0.05), indicating uncertain effects on free bikes.\n",
    "- The model's overall F-statistic (1.386) with a p-value (0.419) implies the model isn't significant, questioning its predictive capability.\n",
    "- Given the small sample size and a large condition number, results should be interpreted with caution due to potential overfitting and multicollinearity.\n",
    "\"\"\"\n"
   ]
  },
  {
   "cell_type": "markdown",
   "metadata": {},
   "source": [
    "# Stretch"
   ]
  },
  {
   "cell_type": "markdown",
   "metadata": {},
   "source": [
    "How can you turn the regression model into a classification model?"
   ]
  },
  {
   "cell_type": "code",
   "execution_count": null,
   "metadata": {},
   "outputs": [],
   "source": []
  }
 ],
 "metadata": {
  "kernelspec": {
   "display_name": "Python 3",
   "language": "python",
   "name": "python3"
  },
  "language_info": {
   "codemirror_mode": {
    "name": "ipython",
    "version": 3
   },
   "file_extension": ".py",
   "mimetype": "text/x-python",
   "name": "python",
   "nbconvert_exporter": "python",
   "pygments_lexer": "ipython3",
   "version": "3.11.5"
  }
 },
 "nbformat": 4,
 "nbformat_minor": 4
}
