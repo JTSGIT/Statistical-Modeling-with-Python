{
 "cells": [
  {
   "cell_type": "code",
   "execution_count": 3,
   "metadata": {},
   "outputs": [],
   "source": [
    "import sqlite3\n",
    "import pandas as pd\n",
    "import requests"
   ]
  },
  {
   "cell_type": "markdown",
   "metadata": {},
   "source": [
    "# Foursquare"
   ]
  },
  {
   "cell_type": "markdown",
   "metadata": {},
   "source": [
    "Send a request to Foursquare with a small radius (1000m) for all the bike stations in your city of choice. "
   ]
  },
  {
   "cell_type": "code",
   "execution_count": 11,
   "metadata": {},
   "outputs": [
    {
     "ename": "NameError",
     "evalue": "name 'stations_df' is not defined",
     "output_type": "error",
     "traceback": [
      "\u001b[0;31m---------------------------------------------------------------------------\u001b[0m",
      "\u001b[0;31mNameError\u001b[0m                                 Traceback (most recent call last)",
      "Cell \u001b[0;32mIn[11], line 42\u001b[0m\n\u001b[1;32m     39\u001b[0m all_pois \u001b[38;5;241m=\u001b[39m []\n\u001b[1;32m     41\u001b[0m \u001b[38;5;66;03m# Iterate over each bike station in the DataFrame to fetch nearby POIs\u001b[39;00m\n\u001b[0;32m---> 42\u001b[0m \u001b[38;5;28;01mfor\u001b[39;00m index, row \u001b[38;5;129;01min\u001b[39;00m stations_df\u001b[38;5;241m.\u001b[39miterrows():\n\u001b[1;32m     43\u001b[0m     pois \u001b[38;5;241m=\u001b[39m fetch_pois_from_foursquare(row[\u001b[38;5;124m'\u001b[39m\u001b[38;5;124mlatitude\u001b[39m\u001b[38;5;124m'\u001b[39m], row[\u001b[38;5;124m'\u001b[39m\u001b[38;5;124mlongitude\u001b[39m\u001b[38;5;124m'\u001b[39m])\n\u001b[1;32m     44\u001b[0m     all_pois\u001b[38;5;241m.\u001b[39mextend(pois)\n",
      "\u001b[0;31mNameError\u001b[0m: name 'stations_df' is not defined"
     ]
    }
   ],
   "source": [
    "API_KEY = 'fsq3hhg8hTQCfL/aPuz1PSLab+R48Pg6oojSQ2NqplkdW8A='  \n",
    "\n",
    "def fetch_pois_from_foursquare(lat, lon, radius=1000, limit=50):\n",
    "    \"\"\"\n",
    "    Fetch POIs from Foursquare around a given latitude and longitude using the Foursquare Places API.\n",
    "    \n",
    "    Parameters:\n",
    "    - lat, lon (float): Latitude and longitude of the center point.\n",
    "    - radius (int): Radius in meters to search within.\n",
    "    - limit (int): Maximum number of results to return.\n",
    "    \n",
    "    Returns:\n",
    "    - list of dicts: Each dict contains POI information.\n",
    "    \"\"\"\n",
    "    url = \"https://api.foursquare.com/v3/places/search\"\n",
    "    headers = {\n",
    "        \"Accept\": \"application/json\",\n",
    "        \"Authorization\": API_KEY\n",
    "    }\n",
    "    params = {\n",
    "        'll': f\"{lat},{lon}\",\n",
    "        'radius': radius,\n",
    "        'limit': limit\n",
    "    }\n",
    "    response = requests.get(url, headers=headers, params=params)\n",
    "    if response.status_code == 200:\n",
    "        venues = response.json()['results']\n",
    "        return [{\n",
    "            'station_lat': lat,\n",
    "            'station_lon': lon,\n",
    "            'poi_name': venue['name'],\n",
    "            'poi_lat': venue['geocodes']['main']['latitude'],\n",
    "            'poi_lon': venue['geocodes']['main']['longitude']\n",
    "        } for venue in venues]\n",
    "    else:\n",
    "        return []\n",
    "\n",
    "# Container for all POIs data\n",
    "all_pois = []\n",
    "\n",
    "# Iterate over each bike station in the DataFrame to fetch nearby POIs\n",
    "for index, row in stations_df.iterrows():\n",
    "    pois = fetch_pois_from_foursquare(row['latitude'], row['longitude'])\n",
    "    all_pois.extend(pois)\n",
    "\n",
    "# Convert the collected POI data into a DataFrame\n",
    "pois_df = pd.DataFrame(all_pois)\n",
    "\n",
    "# Quick check to see the first few rows of the collected POIs\n",
    "print(pois_df.head())\n",
    "\n"
   ]
  },
  {
   "cell_type": "markdown",
   "metadata": {},
   "source": [
    "Parse through the response to get the POI (such as restaurants, bars, etc) details you want (ratings, name, location, etc)"
   ]
  },
  {
   "cell_type": "code",
   "execution_count": null,
   "metadata": {},
   "outputs": [],
   "source": [
    "API_KEY = 'fsq3hhg8hTQCfL/aPuz1PSLab+R48Pg6oojSQ2NqplkdW8A='\n",
    "stations_df = pd.DataFrame({\n",
    "    'station_id': [1, 2, 3],\n",
    "    'latitude': [41.387015, 41.391947, 41.396992],\n",
    "    'longitude': [2.170047, 2.164485, 2.165105]\n",
    "})\n",
    "\n",
    "def fetch_and_parse_pois(lat, lon, radius=1000, limit=50):\n",
    "    \"\"\"\n",
    "    Fetches POIs from Foursquare around a given latitude and longitude.\n",
    "    Parses the response to extract names, locations, and ratings of venues.\n",
    "    \"\"\"\n",
    "    url = \"https://api.foursquare.com/v3/places/search\"\n",
    "    headers = {\"Authorization\": API_KEY}\n",
    "    params = {'ll': f\"{lat},{lon}\", 'radius': radius, 'limit': limit, 'sort': 'RATING'}\n",
    "    response = requests.get(url, headers=headers, params=params)\n",
    "    \n",
    "    if response.status_code == 200:\n",
    "        venues = response.json()['results']\n",
    "        parsed_venues = []\n",
    "        for venue in venues:\n",
    "            venue_details = {\n",
    "                'name': venue['name'],\n",
    "                'latitude': venue['geocodes']['main']['latitude'],\n",
    "                'longitude': venue['geocodes']['main']['longitude'],\n",
    "                'rating': venue.get('rating', 'No rating')  # Use 'No rating' if rating is not available\n",
    "            }\n",
    "            parsed_venues.append(venue_details)\n",
    "        return parsed_venues\n",
    "    else:\n",
    "        print(f\"Failed to fetch POIs: {response.status_code}\")\n",
    "        return []\n",
    "\n",
    "# Fetch and parse POIs for a sample station\n",
    "example_pois = fetch_and_parse_pois(stations_df.iloc[0]['latitude'], stations_df.iloc[0]['longitude'])\n",
    "\n",
    "# Notes:\n",
    "# - API key is required for authentication with the Foursquare API.\n",
    "# - The function requests POIs around a given location within a 1000m radius.\n",
    "# - Parses each POI to extract and return a simplified dictionary of details.\n",
    "# - Handles cases where a POI does not have a rating.\n",
    "# - Checks the status code of the response to handle failed requests."
   ]
  },
  {
   "cell_type": "markdown",
   "metadata": {},
   "source": [
    "Put your parsed results into a DataFrame"
   ]
  },
  {
   "cell_type": "code",
   "execution_count": null,
   "metadata": {},
   "outputs": [],
   "source": [
    "all_pois = []\n",
    "\n",
    "for _, row in stations_df.iterrows():\n",
    "    pois = fetch_and_parse_pois(row['latitude'], row['longitude'])\n",
    "    all_pois.extend(pois)  # Combine POIs from all stations\n",
    "\n",
    "pois_df = pd.DataFrame(all_pois)\n",
    "\n",
    "# Notes:\n",
    "# - Iterates through each bike station to fetch nearby POIs.\n",
    "# - Combines all fetched POIs into a single list of dictionaries.\n",
    "# - Converts this list into a DataFrame for easy handling and analysis."
   ]
  },
  {
   "cell_type": "markdown",
   "metadata": {},
   "source": [
    "# Yelp"
   ]
  },
  {
   "cell_type": "markdown",
   "metadata": {},
   "source": [
    "Send a request to Yelp with a small radius (1000m) for all the bike stations in your city of choice. "
   ]
  },
  {
   "cell_type": "code",
   "execution_count": null,
   "metadata": {},
   "outputs": [],
   "source": [
    "#Unable to accsess YelpAPI"
   ]
  },
  {
   "cell_type": "markdown",
   "metadata": {},
   "source": [
    "Parse through the response to get the POI (such as restaurants, bars, etc) details you want (ratings, name, location, etc)"
   ]
  },
  {
   "cell_type": "code",
   "execution_count": null,
   "metadata": {},
   "outputs": [],
   "source": [
    "#Unable to accsess YelpAPI"
   ]
  },
  {
   "cell_type": "markdown",
   "metadata": {},
   "source": [
    "Put your parsed results into a DataFrame"
   ]
  },
  {
   "cell_type": "markdown",
   "metadata": {},
   "source": []
  },
  {
   "cell_type": "markdown",
   "metadata": {},
   "source": [
    "# Comparing Results"
   ]
  },
  {
   "cell_type": "markdown",
   "metadata": {},
   "source": [
    "Which API provided you with more complete data? Provide an explanation. "
   ]
  },
  {
   "cell_type": "markdown",
   "metadata": {},
   "source": [
    "I ran into issues with Foursquare data; it lacked detailed info like ratings, and I also couldn't access the Yelp API because I wasn't getting the verification emails needed to create an API."
   ]
  },
  {
   "cell_type": "markdown",
   "metadata": {},
   "source": [
    "Get the top 10 restaurants according to their rating"
   ]
  },
  {
   "cell_type": "code",
   "execution_count": 10,
   "metadata": {},
   "outputs": [
    {
     "name": "stdout",
     "output_type": "stream",
     "text": [
      "Places returned: 50\n",
      "Rated places returned: 0\n",
      "No places with ratings were found.\n"
     ]
    }
   ],
   "source": [
    "#Unable to accsess YelpAPI (Foursquare results only)\n",
    "API_KEY = 'fsq3hhg8hTQCfL/aPuz1PSLab+R48Pg6oojSQ2NqplkdW8A='\n",
    "\n",
    "# Coordinates for Barcelona. This latitude and longitude are used as the center point for the search query.\n",
    "LAT, LON = '41.3851', '2.1734'\n",
    "\n",
    "# Headers for the API request. 'Accept' specifies the format of the response we expect (JSON in this case).\n",
    "# 'Authorization' is used to pass the API key for authentication.\n",
    "headers = {\n",
    "    \"Accept\": \"application/json\",\n",
    "    \"Authorization\": API_KEY\n",
    "}\n",
    "\n",
    "# Parameters for the API request. 'll' stands for latitude and longitude, specifying the search location.\n",
    "# 'radius' defines the search area's radius in meters. 'limit' is the maximum number of results to return.\n",
    "# 'categories' is used to filter search results to a specific category, in this case, restaurants.\n",
    "params = {\n",
    "    \"ll\": f\"{LAT},{LON}\",\n",
    "    \"radius\": 1000,\n",
    "    \"limit\": 50,\n",
    "    \"categories\": \"13065\"  # This category ID is supposed to represent restaurants.\n",
    "}\n",
    "\n",
    "# Sending a GET request to Foursquare's search API endpoint with the specified headers and parameters.\n",
    "response = requests.get(\"https://api.foursquare.com/v3/places/search\", headers=headers, params=params)\n",
    "\n",
    "# Checking the status code of the response to ensure the request was successful.\n",
    "if response.status_code == 200:\n",
    "    # Extracting the 'results' from the JSON response.\n",
    "    places = response.json().get(\"results\", [])\n",
    "    # Diagnostic print to show how many places were returned by the query.\n",
    "    print(f\"Places returned: {len(places)}\")\n",
    "    \n",
    "    # Filtering the list of places to include only those that have a 'rating'.\n",
    "    rated_places = [place for place in places if 'rating' in place]\n",
    "    # Diagnostic print to show how many of the returned places have ratings.\n",
    "    print(f\"Rated places returned: {len(rated_places)}\")\n",
    "    \n",
    "    # If there are places with ratings, sort them by the 'rating' key in descending order and take the top 10.\n",
    "    if rated_places:\n",
    "        top_rated = sorted(rated_places, key=lambda x: x['rating'], reverse=True)[:10]\n",
    "        # Printing the top 10 rated places, showing their name and rating.\n",
    "        for index, place in enumerate(top_rated, 1):\n",
    "            print(f\"{index}. {place['name']} - Rating: {place.get('rating', 'No rating')}\")\n",
    "    else:\n",
    "        # Message indicating that no places with ratings were found.\n",
    "        print(\"No places with ratings were found.\")\n",
    "else:\n",
    "    # If the request was not successful, print the error status code.\n",
    "    print(\"Error:\", response.status_code)"
   ]
  }
 ],
 "metadata": {
  "kernelspec": {
   "display_name": "Python 3",
   "language": "python",
   "name": "python3"
  },
  "language_info": {
   "codemirror_mode": {
    "name": "ipython",
    "version": 3
   },
   "file_extension": ".py",
   "mimetype": "text/x-python",
   "name": "python",
   "nbconvert_exporter": "python",
   "pygments_lexer": "ipython3",
   "version": "3.11.5"
  }
 },
 "nbformat": 4,
 "nbformat_minor": 4
}
