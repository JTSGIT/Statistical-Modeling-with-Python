{
 "cells": [
  {
   "cell_type": "markdown",
   "metadata": {},
   "source": [
    "# CityBikes"
   ]
  },
  {
   "cell_type": "markdown",
   "metadata": {},
   "source": [
    "Send a request to CityBikes for the city of your choice. "
   ]
  },
  {
   "cell_type": "code",
   "execution_count": 1,
   "metadata": {},
   "outputs": [
    {
     "name": "stdout",
     "output_type": "stream",
     "text": [
      "                                    name   latitude  longitude  free_bikes\n",
      "0                         C/ BILBAO, 174  41.409020   2.195415          13\n",
      "1                      C/ SANT ADRIÀ, 88  41.435460   2.200157           4\n",
      "2                    C/ RAMON TURRÓ, 292  41.403856   2.208426          22\n",
      "3                         C/ DEL CANÓ, 1  41.401330   2.157444          16\n",
      "4  GRAN VIA DE LES CORTS CATALANES,  981  41.412045   2.197267          10\n"
     ]
    }
   ],
   "source": [
    "import requests\n",
    "import pandas as pd\n",
    "\n",
    "# Step 1: Fetch the list of networks and find the network_id for Bicing, Barcelona\n",
    "networks_url = \"http://api.citybik.es/v2/networks\"\n",
    "response = requests.get(networks_url)\n",
    "networks_data = response.json()\n",
    "\n",
    "# Search for Barcelona's Bicing network ID\n",
    "bicing_network_href = None\n",
    "for network in networks_data['networks']:\n",
    "    if network['location']['city'] == 'Barcelona' and network['name'].lower() == 'bicing':\n",
    "        bicing_network_href = network['href']\n",
    "        break\n",
    "\n",
    "if bicing_network_href:\n",
    "    # Step 2: Use the network ID to retrieve detailed information about bike stations in Barcelona\n",
    "    bicing_url = f\"http://api.citybik.es{bicing_network_href}\"\n",
    "    response = requests.get(bicing_url)\n",
    "    bicing_data = response.json()\n",
    "    \n",
    "    # Extract station data\n",
    "    stations = bicing_data['network']['stations']\n",
    "    \n",
    "    # Create a DataFrame\n",
    "    stations_df = pd.DataFrame(stations)\n",
    "    \n",
    "    # Selecting relevant columns\n",
    "    columns_of_interest = ['name', 'latitude', 'longitude', 'free_bikes']  # Corrected variable name here\n",
    "    stations_df = stations_df[columns_of_interest]\n",
    "    \n",
    "    print(stations_df.head())\n",
    "else:\n",
    "    print(\"Bicing network for Barcelona not found or might be named differently.\")\n",
    "\n"
   ]
  },
  {
   "cell_type": "markdown",
   "metadata": {},
   "source": [
    "Parse through the response to get the details you want for the bike stations in that city (latitude, longitude, number of bikes). "
   ]
  },
  {
   "cell_type": "code",
   "execution_count": 2,
   "metadata": {},
   "outputs": [
    {
     "name": "stdout",
     "output_type": "stream",
     "text": [
      "                                    name   latitude  longitude  free_bikes\n",
      "0                         C/ BILBAO, 174  41.409020   2.195415          13\n",
      "1                      C/ SANT ADRIÀ, 88  41.435460   2.200157           4\n",
      "2                    C/ RAMON TURRÓ, 292  41.403856   2.208426          22\n",
      "3                         C/ DEL CANÓ, 1  41.401330   2.157444          16\n",
      "4  GRAN VIA DE LES CORTS CATALANES,  981  41.412045   2.197267          10\n"
     ]
    }
   ],
   "source": [
    "# Extract station data\n",
    "stations = bicing_data['network']['stations']\n",
    "\n",
    "# Create a DataFrame\n",
    "stations_df = pd.DataFrame(stations)\n",
    "\n",
    "# Selecting relevant columns\n",
    "columns_of_interest = ['name', 'latitude', 'longitude', 'free_bikes']\n",
    "stations_df = stations_df[columns_of_interest]\n",
    "\n",
    "print(stations_df.head())\n"
   ]
  },
  {
   "cell_type": "markdown",
   "metadata": {},
   "source": [
    "Put your parsed results into a DataFrame."
   ]
  },
  {
   "cell_type": "code",
   "execution_count": 3,
   "metadata": {},
   "outputs": [
    {
     "name": "stdout",
     "output_type": "stream",
     "text": [
      "                  name   latitude  longitude  free_bikes\n",
      "0       C/ BILBAO, 174  41.409020   2.195415           8\n",
      "1    C/ SANT ADRIÀ, 88  41.435460   2.200157           5\n",
      "2   PL. JESÚS CARRASCO  41.445046   2.176726          11\n",
      "3  C/ RAMON TURRÓ, 292  41.403856   2.208426           1\n",
      "4       C/ DEL CANÓ, 1  41.401330   2.157444           5\n"
     ]
    }
   ],
   "source": [
    "import pandas as pd\n",
    "\n",
    "# Assuming 'stations' is a list of dictionaries with each dictionary containing data for one station\n",
    "stations = [\n",
    "    {\"name\": \"C/ BILBAO, 174\", \"latitude\": 41.409020, \"longitude\": 2.195415, \"free_bikes\": 8},\n",
    "    {\"name\": \"C/ SANT ADRIÀ, 88\", \"latitude\": 41.435460, \"longitude\": 2.200157, \"free_bikes\": 5},\n",
    "    {\"name\": \"PL. JESÚS CARRASCO\", \"latitude\": 41.445046, \"longitude\": 2.176726, \"free_bikes\": 11},\n",
    "    {\"name\": \"C/ RAMON TURRÓ, 292\", \"latitude\": 41.403856, \"longitude\": 2.208426, \"free_bikes\": 1},\n",
    "    {\"name\": \"C/ DEL CANÓ, 1\", \"latitude\": 41.401330, \"longitude\": 2.157444, \"free_bikes\": 5}\n",
    "    # This list would typically come from the API response, as shown in previous examples\n",
    "]\n",
    "\n",
    "# Creating a DataFrame from the 'stations' list\n",
    "stations_df = pd.DataFrame(stations)\n",
    "\n",
    "# Display the first few rows of the DataFrame\n",
    "print(stations_df.head())\n",
    "\n",
    "stations_df.to_csv(\"/Users/jorgen/Documents/LHL/project/Statistical-Modeling-with-Python/data/stations_data.csv\")"
   ]
  }
 ],
 "metadata": {
  "kernelspec": {
   "display_name": "Python 3",
   "language": "python",
   "name": "python3"
  },
  "language_info": {
   "codemirror_mode": {
    "name": "ipython",
    "version": 3
   },
   "file_extension": ".py",
   "mimetype": "text/x-python",
   "name": "python",
   "nbconvert_exporter": "python",
   "pygments_lexer": "ipython3",
   "version": "3.11.5"
  }
 },
 "nbformat": 4,
 "nbformat_minor": 4
}
